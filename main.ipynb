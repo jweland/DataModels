{
 "cells": [
  {
   "cell_type": "code",
   "execution_count": 4,
   "id": "990070ba",
   "metadata": {},
   "outputs": [
    {
     "name": "stdout",
     "output_type": "stream",
     "text": [
      "<bound method NDFrame.head of        Poor_Sleep  Gender  Age   BMI  Smoking  Exercise  Diabetes  \\\n",
      "0               1       1   65  26.0        0         1         1   \n",
      "1               1       1   73  20.8        0         2         0   \n",
      "2               1       1   64  23.5        1         2         0   \n",
      "3               2       1   67  25.0        0         2         0   \n",
      "4               1       1   73  25.2        0         1         0   \n",
      "...           ...     ...  ...   ...      ...       ...       ...   \n",
      "49478           1       2   53  24.2        0         1         0   \n",
      "49479           1       2   63  21.4        0         2         0   \n",
      "49480           1       2   59  22.3        0         1         0   \n",
      "49481           1       2   52  26.3        0         2         0   \n",
      "49482           1       2   46  25.8        0         2         0   \n",
      "\n",
      "       Drinking_Habit  \n",
      "0                   1  \n",
      "1                   1  \n",
      "2                   3  \n",
      "3                   3  \n",
      "4                   2  \n",
      "...               ...  \n",
      "49478               3  \n",
      "49479               2  \n",
      "49480               2  \n",
      "49481               3  \n",
      "49482               2  \n",
      "\n",
      "[49483 rows x 8 columns]>\n"
     ]
    }
   ],
   "source": [
    "import pandas as pd\n",
    "\n",
    "# Dataframe\n",
    "df = pd.read_csv(\"sleep_health.csv\")\n",
    "\n",
    "# Drop incomplete rows\n",
    "df = df.dropna()\n",
    "\n",
    "# NRS is Poor subjective sleep quality -> values: (1 = Present, 2 = Absent)\n",
    "df_2015 = pd.DataFrame({\n",
    "    \"Poor_Sleep\": df[\"2015NRS\"],\n",
    "    \"Gender\": df[\"gender\"], # (1 = male, 2 = female)\n",
    "    \"Age\": df[\"2015Age\"],\n",
    "    \"BMI\": df[\"2015BMI\"],\n",
    "    \"Smoking\": df[\"2015Smoking\"], \n",
    "    \"Exercise\": df[\"2015EX\"],\n",
    "    \"Diabetes\": df[\"2015Diabetes\"],\n",
    "    \"Drinking_Habit\": df[\"2015DrinkHabit\"] # (1 = Everyday, 2 = Sometimes, 3 = Rarely, Does not)\n",
    "})\n",
    "\n",
    "print(df_2015.head)"
   ]
  }
 ],
 "metadata": {
  "kernelspec": {
   "display_name": "Python 3",
   "language": "python",
   "name": "python3"
  },
  "language_info": {
   "codemirror_mode": {
    "name": "ipython",
    "version": 3
   },
   "file_extension": ".py",
   "mimetype": "text/x-python",
   "name": "python",
   "nbconvert_exporter": "python",
   "pygments_lexer": "ipython3",
   "version": "3.11.9"
  }
 },
 "nbformat": 4,
 "nbformat_minor": 5
}

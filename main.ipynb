{
 "cells": [
  {
   "cell_type": "code",
   "execution_count": null,
   "id": "990070ba",
   "metadata": {},
   "outputs": [
    {
     "name": "stdout",
     "output_type": "stream",
     "text": [
      "id                     0\n",
      "gender                 0\n",
      "2014Age                0\n",
      "2014BMI                0\n",
      "2014SBP                0\n",
      "                      ..\n",
      "2014AlcoIntake         0\n",
      "2015AlcoIntake         0\n",
      "2014Alco_binary        0\n",
      "2015Alco_binary        0\n",
      "2014_2015AlcoIntake    0\n",
      "Length: 61, dtype: int64\n"
     ]
    }
   ],
   "source": [
    "import pandas as pd\n",
    "\n",
    "# Dataframe\n",
    "df = pd.read_csv(\"sleep_health.csv\")\n"
   ]
  }
 ],
 "metadata": {
  "kernelspec": {
   "display_name": "Python 3",
   "language": "python",
   "name": "python3"
  },
  "language_info": {
   "codemirror_mode": {
    "name": "ipython",
    "version": 3
   },
   "file_extension": ".py",
   "mimetype": "text/x-python",
   "name": "python",
   "nbconvert_exporter": "python",
   "pygments_lexer": "ipython3",
   "version": "3.11.9"
  }
 },
 "nbformat": 4,
 "nbformat_minor": 5
}
